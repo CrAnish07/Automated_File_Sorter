{
 "cells": [
  {
   "cell_type": "code",
   "execution_count": 1,
   "id": "f9b430b7-f0d6-4a1d-9a7c-27ecf2eb6296",
   "metadata": {},
   "outputs": [],
   "source": [
    "import os, shutil"
   ]
  },
  {
   "cell_type": "code",
   "execution_count": 7,
   "id": "f1cf951b-de2d-42c1-8737-a8e9df1a5258",
   "metadata": {},
   "outputs": [],
   "source": [
    "path = r\"D:/Data_Analytics/Python/Automated_File_Sorter/file/\""
   ]
  },
  {
   "cell_type": "code",
   "execution_count": 11,
   "id": "6ccccc4e-96ec-4eae-9d04-6a307ed9fa7a",
   "metadata": {},
   "outputs": [],
   "source": [
    "file_name = os.listdir(path)"
   ]
  },
  {
   "cell_type": "code",
   "execution_count": 12,
   "id": "ebafd8ec-c542-4042-8d01-badb002463db",
   "metadata": {},
   "outputs": [],
   "source": [
    "folder_names = ['csv files', 'image files', 'text files']\n",
    "\n",
    "for loop in range(0,3):\n",
    "    if not os.path.exists(path + folder_names[loop]):\n",
    "        print(path + folder_names[loop])\n",
    "        os.makedirs(path + folder_names[loop])"
   ]
  },
  {
   "cell_type": "code",
   "execution_count": 14,
   "id": "ecb5a174-f0b9-4cad-8586-4d9bbf2f5fea",
   "metadata": {},
   "outputs": [],
   "source": [
    "for file in file_name:\n",
    "    if \".csv\" in file and not os.path.exists(path + \"csv files/\" + file):\n",
    "        shutil.move(path + file, path + \"csv files/\" + file)"
   ]
  },
  {
   "cell_type": "code",
   "execution_count": null,
   "id": "b8f1c7a4-854a-4ce5-a159-8116ac4f667d",
   "metadata": {},
   "outputs": [],
   "source": []
  }
 ],
 "metadata": {
  "kernelspec": {
   "display_name": "Python 3 (ipykernel)",
   "language": "python",
   "name": "python3"
  },
  "language_info": {
   "codemirror_mode": {
    "name": "ipython",
    "version": 3
   },
   "file_extension": ".py",
   "mimetype": "text/x-python",
   "name": "python",
   "nbconvert_exporter": "python",
   "pygments_lexer": "ipython3",
   "version": "3.12.7"
  }
 },
 "nbformat": 4,
 "nbformat_minor": 5
}
