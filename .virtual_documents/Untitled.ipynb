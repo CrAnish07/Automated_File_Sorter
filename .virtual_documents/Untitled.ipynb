import os, shutil


path = r"D:/Data_Analytics/Python/Automated_File_Sorter/file/"


file_name = os.listdir(path)


folder_names = ['csv files', 'image files', 'text files']

for loop in range(0,3):
    if not os.path.exists(path + folder_names[loop]):
        print(path + folder_names[loop])
        os.makedirs(path + folder_names[loop])


for file in file_name:
    if ".csv" in file and not os.path.exists(path + "csv files/" + file):
        shutil.move(path + file, path + "csv files/" + file)



